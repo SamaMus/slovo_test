import argparse
import sys
import time
from collections import deque
from multiprocessing import Manager, Process, Value
from typing import Optional, Tuple

import onnxruntime as ort
from loguru import logger

ort.set_default_logger_severity(4)  # NOQA
logger.add(sys.stdout, format="{level} | {message}")  # NOQA
logger.remove()  # NOQA
import cv2
import numpy as np
from omegaconf import OmegaConf

from constants import classes

